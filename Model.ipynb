{
  "nbformat": 4,
  "nbformat_minor": 0,
  "metadata": {
    "colab": {
      "name": "Model.ipynb",
      "provenance": []
    },
    "kernelspec": {
      "name": "python3",
      "display_name": "Python 3"
    }
  },
  "cells": [
    {
      "cell_type": "code",
      "metadata": {
        "id": "XbD2XmD-GD_S",
        "colab_type": "code",
        "colab": {}
      },
      "source": [
        "import pandas as pd"
      ],
      "execution_count": null,
      "outputs": []
    },
    {
      "cell_type": "code",
      "metadata": {
        "id": "CW40jncfGNJh",
        "colab_type": "code",
        "colab": {
          "base_uri": "https://localhost:8080/",
          "height": 153
        },
        "outputId": "331aa833-4d45-4707-8d31-e74db4de1e0a"
      },
      "source": [
        "#Loading the  titanic dataset\n",
        "url=\"/content/train.csv\"\n",
        "df = pd.read_csv(url)\n",
        "print(df.head())\n",
        "include=[\"Age\",\"Sex\",\"Embarked\",\"Survived\"]\n",
        "df_=df[include]"
      ],
      "execution_count": null,
      "outputs": [
        {
          "output_type": "stream",
          "text": [
            "   PassengerId  Survived  Pclass  ...     Fare Cabin  Embarked\n",
            "0            1         0       3  ...   7.2500   NaN         S\n",
            "1            2         1       1  ...  71.2833   C85         C\n",
            "2            3         1       3  ...   7.9250   NaN         S\n",
            "3            4         1       1  ...  53.1000  C123         S\n",
            "4            5         0       3  ...   8.0500   NaN         S\n",
            "\n",
            "[5 rows x 12 columns]\n"
          ],
          "name": "stdout"
        }
      ]
    },
    {
      "cell_type": "code",
      "metadata": {
        "id": "ajIBFqb_Ge6e",
        "colab_type": "code",
        "colab": {
          "base_uri": "https://localhost:8080/",
          "height": 122
        },
        "outputId": "ff991593-f781-4252-9a1b-028efe4c3889"
      },
      "source": [
        "#Filling null values in data\n",
        "categories=[]\n",
        "for col,col_type in df_.dtypes.iteritems():\n",
        "    if col_type==\"O\":\n",
        "        categories.append(col)\n",
        "    else:\n",
        "        df_[col].fillna(0,inplace=True)\n",
        " "
      ],
      "execution_count": null,
      "outputs": [
        {
          "output_type": "stream",
          "text": [
            "/usr/local/lib/python3.6/dist-packages/pandas/core/generic.py:6245: SettingWithCopyWarning: \n",
            "A value is trying to be set on a copy of a slice from a DataFrame\n",
            "\n",
            "See the caveats in the documentation: https://pandas.pydata.org/pandas-docs/stable/user_guide/indexing.html#returning-a-view-versus-a-copy\n",
            "  self._update_inplace(new_data)\n"
          ],
          "name": "stderr"
        }
      ]
    },
    {
      "cell_type": "code",
      "metadata": {
        "id": "8NQOeWHHGiH8",
        "colab_type": "code",
        "colab": {
          "base_uri": "https://localhost:8080/",
          "height": 102
        },
        "outputId": "214902ec-0c7d-448d-9f9e-06cd6a2b7633"
      },
      "source": [
        "#Label Encoding (Coverting Char columns to numerical using one hot encoder)\n",
        "df_ohe =pd.get_dummies(df_,columns=categories,dummy_na=True)\n",
        "\n",
        "#Building Model\n",
        "from sklearn.linear_model import LogisticRegression\n",
        "dependent_variable=\"Survived\"\n",
        "x=df_ohe[df_ohe.columns.difference([dependent_variable])]\n",
        "y=df_ohe[dependent_variable]\n",
        "lr=LogisticRegression()\n",
        "lr.fit(x,y)\n",
        "\n"
      ],
      "execution_count": null,
      "outputs": [
        {
          "output_type": "execute_result",
          "data": {
            "text/plain": [
              "LogisticRegression(C=1.0, class_weight=None, dual=False, fit_intercept=True,\n",
              "                   intercept_scaling=1, l1_ratio=None, max_iter=100,\n",
              "                   multi_class='auto', n_jobs=None, penalty='l2',\n",
              "                   random_state=None, solver='lbfgs', tol=0.0001, verbose=0,\n",
              "                   warm_start=False)"
            ]
          },
          "metadata": {
            "tags": []
          },
          "execution_count": 4
        }
      ]
    },
    {
      "cell_type": "code",
      "metadata": {
        "id": "u8I_YpclGq7X",
        "colab_type": "code",
        "colab": {
          "base_uri": "https://localhost:8080/",
          "height": 88
        },
        "outputId": "2852152e-bc66-4196-c484-5f0b2281f3a6"
      },
      "source": [
        "#Serializing/pickling the model using joblib\n",
        "from sklearn.externals import joblib\n",
        "joblib.dump(lr,\"model.pkl\")\n",
        "print(\"Model Dumped Success!!\")\n"
      ],
      "execution_count": null,
      "outputs": [
        {
          "output_type": "stream",
          "text": [
            "Model Dumped Success!!\n"
          ],
          "name": "stdout"
        },
        {
          "output_type": "stream",
          "text": [
            "/usr/local/lib/python3.6/dist-packages/sklearn/externals/joblib/__init__.py:15: FutureWarning: sklearn.externals.joblib is deprecated in 0.21 and will be removed in 0.23. Please import this functionality directly from joblib, which can be installed with: pip install joblib. If this warning is raised when loading pickled models, you may need to re-serialize those models with scikit-learn 0.21+.\n",
            "  warnings.warn(msg, category=FutureWarning)\n"
          ],
          "name": "stderr"
        }
      ]
    },
    {
      "cell_type": "code",
      "metadata": {
        "id": "_XfhA3BEGu_7",
        "colab_type": "code",
        "colab": {}
      },
      "source": [
        "#Loading the model we save\n",
        "lr=joblib.load(\"model.pkl\")\n"
      ],
      "execution_count": null,
      "outputs": []
    },
    {
      "cell_type": "code",
      "metadata": {
        "id": "LbUGYvi1GxyO",
        "colab_type": "code",
        "colab": {
          "base_uri": "https://localhost:8080/",
          "height": 34
        },
        "outputId": "a79066a1-a9d8-426d-f62a-01b125300f7d"
      },
      "source": [
        "#Saving the data columns from training\n",
        "model_columns=list(x.columns)\n",
        "joblib.dump(model_columns,\"model_columns.pkl\")\n",
        "print(\"Models columns dumped!\")"
      ],
      "execution_count": null,
      "outputs": [
        {
          "output_type": "stream",
          "text": [
            "Models columns dumped!\n"
          ],
          "name": "stdout"
        }
      ]
    }
  ]
}